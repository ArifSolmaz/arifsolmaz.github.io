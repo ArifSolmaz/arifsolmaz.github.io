{
 "cells": [
  {
   "cell_type": "markdown",
   "id": "d2357c3f",
   "metadata": {},
   "source": [
    "\n",
    "# 🔧 Setup for `spotlightcurve`\n",
    "\n",
    "This notebook is prepped to work in two ways:\n",
    "\n",
    "**Option A (preferred): pip-install from GitHub**  \n",
    "```python\n",
    "%pip install --no-build-isolation --no-deps \"git+https://github.com/ArifSolmaz/arifsolmaz.github.io@main\"\n",
    "# then (runtime deps, optional if already present in Colab)\n",
    "%pip install -q -r https://raw.githubusercontent.com/ArifSolmaz/arifsolmaz.github.io/main/requirements.txt\n",
    "```\n",
    "\n",
    "**Option B (fallback if A fails or you're behind a proxy): clone & add to path**  \n",
    "```python\n",
    "!rm -rf arifsolmaz.github.io\n",
    "!git clone https://github.com/ArifSolmaz/arifsolmaz.github.io.git\n",
    "%cd arifsolmaz.github.io\n",
    "import sys, os\n",
    "sys.path.append(os.getcwd())\n",
    "```\n",
    "\n",
    "**Local Mac (outside Colab) virtualenv quickstart**  \n",
    "```bash\n",
    "cd /path/to/arifsolmaz.github.io\n",
    "python3 -m venv .venv\n",
    "source .venv/bin/activate\n",
    "pip install --upgrade pip setuptools wheel\n",
    "pip install -e .\n",
    "python -c \"import spotlightcurve, sys; print('OK:', spotlightcurve.__version__)\"\n",
    "```\n"
   ]
  },
  {
   "cell_type": "code",
   "execution_count": null,
   "id": "87d33c3c",
   "metadata": {},
   "outputs": [],
   "source": [
    "\n",
    "# Try to install from GitHub (no build isolation to avoid downloading build deps)\n",
    "try:\n",
    "    # Install the package itself (no build isolation / deps)\n",
    "    %pip install --no-build-isolation --no-deps \"git+https://github.com/ArifSolmaz/arifsolmaz.github.io@main\" -q\n",
    "    # Install runtime dependencies (best effort)\n",
    "    %pip install -q -r https://raw.githubusercontent.com/ArifSolmaz/arifsolmaz.github.io/main/requirements.txt\n",
    "    INSTALLED_MODE = \"pip_git\"\n",
    "except Exception as e:\n",
    "    print(\"pip install from GitHub failed, falling back to clone:\", e)\n",
    "    INSTALLED_MODE = None\n",
    "\n",
    "if INSTALLED_MODE is None:\n",
    "    # Fallback: clone and add repo to path\n",
    "    import os, sys, subprocess, textwrap\n",
    "    try:\n",
    "        subprocess.run([\"bash\",\"-lc\",\"rm -rf arifsolmaz.github.io && git clone https://github.com/ArifSolmaz/arifsolmaz.github.io.git\"], check=True)\n",
    "        %cd arifsolmaz.github.io\n",
    "        import os, sys\n",
    "        sys.path.append(os.getcwd())\n",
    "        INSTALLED_MODE = \"clone_path\"\n",
    "    except Exception as e:\n",
    "        print(\"Fallback clone also failed:\", e)\n",
    "        INSTALLED_MODE = \"failed\"\n",
    "\n",
    "print(\"Install mode:\", INSTALLED_MODE)\n"
   ]
  },
  {
   "cell_type": "code",
   "execution_count": null,
   "id": "322b35f1",
   "metadata": {},
   "outputs": [],
   "source": [
    "\n",
    "# Import test\n",
    "try:\n",
    "    import spotlightcurve as sc\n",
    "    print(\"spotlightcurve version:\", getattr(sc, \"__version__\", \"unknown\"))\n",
    "    print(\"module file:\", getattr(sc, \"__file__\", \"unknown\"))\n",
    "except Exception as e:\n",
    "    print(\"Import failed:\", e)\n",
    "    raise\n"
   ]
  },
  {
   "cell_type": "code",
   "execution_count": null,
   "id": "4d9e48b5",
   "metadata": {},
   "outputs": [],
   "source": [
    "\n",
    "# Quick demo: simulate and plot a spot-modulated light curve\n",
    "import numpy as np\n",
    "import matplotlib.pyplot as plt\n",
    "\n",
    "try:\n",
    "    from spotlightcurve import core\n",
    "    t = np.linspace(0, 10, 2000)\n",
    "    # If simulate_spot_curve exists in your package, use it; else make a simple cosine\n",
    "    if hasattr(core, \"simulate_spot_curve\"):\n",
    "        flux = core.simulate_spot_curve(t, period=3.2, amplitude=0.01, noise=5e-4, seed=1)\n",
    "    else:\n",
    "        phase = 2*np.pi*(t/3.2)\n",
    "        flux = 1.0 - 0.01*np.cos(phase)\n",
    "    plt.figure()\n",
    "    plt.plot(t, flux)\n",
    "    plt.xlabel(\"Time [days]\")\n",
    "    plt.ylabel(\"Relative flux\")\n",
    "    plt.title(\"SpotlightCurve quick demo\")\n",
    "    plt.show()\n",
    "except Exception as e:\n",
    "    print(\"Demo failed:\", e)\n"
   ]
  },
  {
   "cell_type": "markdown",
   "id": "0fce915b",
   "metadata": {},
   "source": [
    "# SpotLightCurve Colab Tutorial\n",
    "\n",
    "This notebook demonstrates how to install the **SpotLightCurve** package in Google Colab and run an end-to-end analysis of the HAT-P-36 system using TESS Sector 49 photometry."
   ]
  },
  {
   "cell_type": "markdown",
   "id": "9c33effa",
   "metadata": {},
   "source": [
    "## 1. Install SpotLightCurve and dependencies\n",
    "\n",
    "Install the latest version of SpotLightCurve directly from GitHub. The `--quiet` flag keeps the output manageable in Colab logs."
   ]
  },
  {
   "cell_type": "code",
   "execution_count": null,
   "id": "7bed19fa",
   "metadata": {
    "id": "install"
   },
   "outputs": [],
   "source": [
    "!pip install --quiet \"git+https://github.com/arifsolmaz/arifsolmaz.github.io@main\""
   ]
  },
  {
   "cell_type": "markdown",
   "id": "c089258e",
   "metadata": {},
   "source": [
    "## 2. Import libraries\n",
    "\n",
    "After the install step completes, import NumPy, PyMC, Lightkurve, and the SpotLightCurve helpers used throughout the workflow. If Colab prompts you to restart the runtime, do so before running this cell."
   ]
  },
  {
   "cell_type": "code",
   "execution_count": null,
   "id": "f512c3a1",
   "metadata": {
    "id": "imports"
   },
   "outputs": [],
   "source": [
    "import numpy as np\n",
    "import arviz as az\n",
    "import pymc as pm\n",
    "import lightkurve as lk\n",
    "from astroquery.nasa_exoplanet_archive import NasaExoplanetArchive\n",
    "\n",
    "from spotlightcurve.io import load_tess\n",
    "from spotlightcurve.preprocess import quality_mask, apply_mask\n",
    "from spotlightcurve.model import build_gp_transit_model"
   ]
  },
  {
   "cell_type": "markdown",
   "id": "baee4a5d",
   "metadata": {},
   "source": [
    "## 3. Download and clean the TESS light curve\n",
    "\n",
    "Fetch the Sector 49 light curve for HAT-P-36 using Lightkurve, then apply a simple sigma-clipping quality mask."
   ]
  },
  {
   "cell_type": "code",
   "execution_count": null,
   "id": "b7948ab1",
   "metadata": {
    "id": "download_lc"
   },
   "outputs": [],
   "source": [
    "target = \"HAT-P-36\"\n",
    "sector = 49\n",
    "\n",
    "lc = load_tess(target, sector=sector)\n",
    "mask = quality_mask(lc.flux)\n",
    "lc_clean = apply_mask(lc, mask)\n",
    "\n",
    "lc_clean.metadata"
   ]
  },
  {
   "cell_type": "markdown",
   "id": "84ec9317",
   "metadata": {},
   "source": [
    "## 4. Retrieve published planetary ephemerides\n",
    "\n",
    "Use the NASA Exoplanet Archive to obtain the orbital period and transit mid-point for HAT-P-36 b. TESS works in the BTJD time system, so convert from BJD."
   ]
  },
  {
   "cell_type": "code",
   "execution_count": null,
   "id": "e0478a78",
   "metadata": {
    "id": "ephemerides"
   },
   "outputs": [],
   "source": [
    "ephem = NasaExoplanetArchive.query_planet(\"HAT-P-36 b\")\n",
    "period_days = ephem[\"pl_orbper\"][0]\n",
    "t0_bjd = ephem[\"pl_tranmid\"][0]\n",
    "t0_btjd = t0_bjd - 2457000.0\n",
    "\n",
    "print(f\"Period = {period_days:.6f} d\")\n",
    "print(f\"Transit mid-point (BTJD) = {t0_btjd:.6f}\")"
   ]
  },
  {
   "cell_type": "markdown",
   "id": "bb899818",
   "metadata": {},
   "source": [
    "## 5. Estimate a stellar rotation-period prior\n",
    "\n",
    "Compute a Lomb-Scargle periodogram with Lightkurve to get an initial guess for the stellar rotation period, which informs the Gaussian-process kernel."
   ]
  },
  {
   "cell_type": "code",
   "execution_count": null,
   "id": "30a97552",
   "metadata": {
    "id": "rotation"
   },
   "outputs": [],
   "source": [
    "lk_lc = lk.LightCurve(time=lc_clean.time, flux=lc_clean.flux)\n",
    "pg = lk_lc.to_periodogram(method=\"lombscargle\", minimum_period=1, maximum_period=25)\n",
    "rot_period_guess = pg.period_at_max_power.value\n",
    "\n",
    "print(f\"Rotation-period prior ≈ {rot_period_guess:.2f} d\")"
   ]
  },
  {
   "cell_type": "markdown",
   "id": "edb3d7e5",
   "metadata": {},
   "source": [
    "## 6. Build and sample the GP + transit model\n",
    "\n",
    "Set up the SpotLightCurve probabilistic model that combines a rotation-tailored Gaussian process with the planetary transit signal. Sampling with PyMC's NUTS sampler can take a few minutes on Colab. Feel free to adjust the number of draws for quicker tests."
   ]
  },
  {
   "cell_type": "code",
   "execution_count": null,
   "id": "eb18c500",
   "metadata": {
    "id": "model"
   },
   "outputs": [],
   "source": [
    "model = build_gp_transit_model(\n",
    "    time=lc_clean.time,\n",
    "    flux=lc_clean.flux,\n",
    "    flux_err=lc_clean.flux_err,\n",
    "    period=period_days,\n",
    "    t0=t0_btjd,\n",
    "    rot_period_prior=rot_period_guess,\n",
    ")\n",
    "\n",
    "with model:\n",
    "    trace = pm.sample(\n",
    "        draws=1000,\n",
    "        tune=1000,\n",
    "        chains=2,\n",
    "        target_accept=0.9,\n",
    "        return_inferencedata=True,\n",
    "    )"
   ]
  },
  {
   "cell_type": "markdown",
   "id": "a2e4a5b5",
   "metadata": {},
   "source": [
    "## 7. Summarize planetary and spot parameters\n",
    "\n",
    "ArviZ summarises posterior estimates for key planetary and stellar-activity parameters."
   ]
  },
  {
   "cell_type": "code",
   "execution_count": null,
   "id": "26fa12b9",
   "metadata": {
    "id": "summary"
   },
   "outputs": [],
   "source": [
    "planet_vars = [\"period\", \"t0\", \"r\", \"impact\"]\n",
    "spot_vars = [\"rot_period\", \"log_amp\", \"mixing\"]\n",
    "\n",
    "planet_summary = az.summary(trace, var_names=planet_vars)\n",
    "spot_summary = az.summary(trace, var_names=spot_vars)\n",
    "\n",
    "planet_summary, spot_summary"
   ]
  },
  {
   "cell_type": "markdown",
   "id": "930fbf39",
   "metadata": {},
   "source": [
    "## 8. Visual diagnostics\n",
    "\n",
    "Inspect trace plots for convergence and revisit the periodogram to see the rotation signal."
   ]
  },
  {
   "cell_type": "code",
   "execution_count": null,
   "id": "3a637dbb",
   "metadata": {
    "id": "diagnostics"
   },
   "outputs": [],
   "source": [
    "az.plot_trace(trace, var_names=planet_vars + spot_vars);\n",
    "pg.plot();"
   ]
  },
  {
   "cell_type": "markdown",
   "id": "87f5c482",
   "metadata": {},
   "source": [
    "## 9. (Optional) Save outputs to Google Drive\n",
    "\n",
    "Mount Google Drive and store the posterior samples for future analysis."
   ]
  },
  {
   "cell_type": "code",
   "execution_count": null,
   "id": "16aaf96e",
   "metadata": {
    "id": "save"
   },
   "outputs": [],
   "source": [
    "# from google.colab import drive\n",
    "# drive.mount('/content/drive')\n",
    "# az.to_netcdf(trace, '/content/drive/MyDrive/spotlightcurve/hatp36_sector49_trace.nc')"
   ]
  }
 ],
 "metadata": {
  "kernelspec": {
   "display_name": "Python 3",
   "language": "python",
   "name": "python3"
  },
  "language_info": {
   "codemirror_mode": {
    "name": "ipython",
    "version": 3
   },
   "file_extension": ".py",
   "mimetype": "text/x-python",
   "name": "python",
   "nbconvert_exporter": "python",
   "pygments_lexer": "ipython3",
   "version": "3.10"
  }
 },
 "nbformat": 4,
 "nbformat_minor": 5
}
