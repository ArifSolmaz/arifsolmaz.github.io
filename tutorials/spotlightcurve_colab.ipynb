{
 "cells": [
  {
   "cell_type": "markdown",
   "metadata": {},
   "source": [
    "# SpotLightCurve Colab Tutorial\n",
    "\n",
    "This notebook demonstrates how to install the **SpotLightCurve** package in Google Colab and run an end-to-end analysis of the HAT-P-36 system using TESS Sector 49 photometry."
   ]
  },
  {
   "cell_type": "markdown",
   "metadata": {},
   "source": [
    "## 1. Install SpotLightCurve and dependencies\n",
    "\n",
    "Install the latest version of SpotLightCurve directly from GitHub. The `--quiet` flag keeps the output manageable in Colab logs."
   ]
  },
  {
   "cell_type": "code",
   "execution_count": null,
   "metadata": {
    "id": "install"
   },
   "outputs": [],
   "source": [
    "!pip install --quiet \"git+https://github.com/arifsolmaz/arifsolmaz.github.io@main\""
   ]
  },
  {
   "cell_type": "markdown",
   "metadata": {},
   "source": [
    "## 2. Import libraries\n",
    "\n",
    "After the install step completes, import NumPy, PyMC, Lightkurve, and the SpotLightCurve helpers used throughout the workflow. If Colab prompts you to restart the runtime, do so before running this cell."
   ]
  },
  {
   "cell_type": "code",
   "execution_count": null,
   "metadata": {
    "id": "imports"
   },
   "outputs": [],
   "source": [
    "import numpy as np\n",
    "import arviz as az\n",
    "import pymc as pm\n",
    "import lightkurve as lk\n",
    "from astroquery.nasa_exoplanet_archive import NasaExoplanetArchive\n",
    "\n",
    "from spotlightcurve.io import LightCurveBundle, load_tess\n",
    "from spotlightcurve.preprocess import quality_mask, apply_mask\n",
    "from spotlightcurve.model import build_gp_transit_model"
   ]
  },
  {
   "cell_type": "markdown",
   "metadata": {},
   "source": [
    "## 3. Download and clean the TESS light curve\n",
    "\n",
    "Fetch the Sector 49 light curve for HAT-P-36 using Lightkurve, then apply a simple sigma-clipping quality mask."
   ]
  },
  {
   "cell_type": "code",
   "execution_count": null,
   "metadata": {
    "id": "download_lc"
   },
   "outputs": [],
   "source": [
    "target = \"HAT-P-36\"\n",
    "sector = 49\n",
    "\n",
    "bundle: LightCurveBundle = load_tess(target, sector=sector)\n",
    "lc = bundle.light_curve\n",
    "mask = quality_mask(lc.flux)\n",
    "lc_clean = apply_mask(lc, mask)\n",
    "\n",
    "lc_clean.metadata\n"
   ]
  },
  {
   "cell_type": "markdown",
   "metadata": {},
   "source": [
    "The returned `LightCurveBundle` retains both the cleaned `LightCurve` used for modeling and the raw Lightkurve object with boolean masks. Adjust the `quality` preset (e.g., `'lenient'`) in `load_tess` if you want to keep more cadences.\n"
   ]
  },
  {
   "cell_type": "markdown",
   "metadata": {},
   "source": [
    "## 4. Retrieve published planetary ephemerides\n",
    "\n",
    "Use the NASA Exoplanet Archive to obtain the orbital period and transit mid-point for HAT-P-36 b. TESS works in the BTJD time system, so convert from BJD."
   ]
  },
  {
   "cell_type": "code",
   "execution_count": null,
   "metadata": {
    "id": "ephemerides"
   },
   "outputs": [],
   "source": [
    "ephem = NasaExoplanetArchive.query_planet(\"HAT-P-36 b\")\n",
    "period_days = ephem[\"pl_orbper\"][0]\n",
    "t0_bjd = ephem[\"pl_tranmid\"][0]\n",
    "t0_btjd = t0_bjd - 2457000.0\n",
    "\n",
    "print(f\"Period = {period_days:.6f} d\")\n",
    "print(f\"Transit mid-point (BTJD) = {t0_btjd:.6f}\")"
   ]
  },
  {
   "cell_type": "markdown",
   "metadata": {},
   "source": [
    "## 5. Estimate a stellar rotation-period prior\n",
    "\n",
    "Compute a Lomb-Scargle periodogram with Lightkurve to get an initial guess for the stellar rotation period, which informs the Gaussian-process kernel."
   ]
  },
  {
   "cell_type": "code",
   "execution_count": null,
   "metadata": {
    "id": "rotation"
   },
   "outputs": [],
   "source": [
    "lk_lc = lk.LightCurve(time=lc_clean.time, flux=lc_clean.flux)\n",
    "pg = lk_lc.to_periodogram(method=\"lombscargle\", minimum_period=1, maximum_period=25)\n",
    "rot_period_guess = pg.period_at_max_power.value\n",
    "\n",
    "print(f\"Rotation-period prior ≈ {rot_period_guess:.2f} d\")"
   ]
  },
  {
   "cell_type": "markdown",
   "metadata": {},
   "source": [
    "## 6. Build and sample the GP + transit model\n",
    "\n",
    "Set up the SpotLightCurve probabilistic model that combines a rotation-tailored Gaussian process with the planetary transit signal. Sampling with PyMC's NUTS sampler can take a few minutes on Colab. Feel free to adjust the number of draws for quicker tests."
   ]
  },
  {
   "cell_type": "code",
   "execution_count": null,
   "metadata": {
    "id": "model"
   },
   "outputs": [],
   "source": [
    "model = build_gp_transit_model(\n",
    "    time=lc_clean.time,\n",
    "    flux=lc_clean.flux,\n",
    "    flux_err=lc_clean.flux_err,\n",
    "    period=period_days,\n",
    "    t0=t0_btjd,\n",
    "    rot_period_prior=rot_period_guess,\n",
    ")\n",
    "\n",
    "with model:\n",
    "    trace = pm.sample(\n",
    "        draws=1000,\n",
    "        tune=1000,\n",
    "        chains=2,\n",
    "        target_accept=0.9,\n",
    "        return_inferencedata=True,\n",
    "    )"
   ]
  },
  {
   "cell_type": "markdown",
   "metadata": {},
   "source": [
    "## 7. Summarize planetary and spot parameters\n",
    "\n",
    "ArviZ summarises posterior estimates for key planetary and stellar-activity parameters."
   ]
  },
  {
   "cell_type": "code",
   "execution_count": null,
   "metadata": {
    "id": "summary"
   },
   "outputs": [],
   "source": [
    "planet_vars = [\"period\", \"t0\", \"r\", \"impact\"]\n",
    "spot_vars = [\"rot_period\", \"log_amp\", \"mixing\"]\n",
    "\n",
    "planet_summary = az.summary(trace, var_names=planet_vars)\n",
    "spot_summary = az.summary(trace, var_names=spot_vars)\n",
    "\n",
    "planet_summary, spot_summary"
   ]
  },
  {
   "cell_type": "markdown",
   "metadata": {},
   "source": [
    "## 8. Visual diagnostics\n",
    "\n",
    "Inspect trace plots for convergence and revisit the periodogram to see the rotation signal."
   ]
  },
  {
   "cell_type": "code",
   "execution_count": null,
   "metadata": {
    "id": "diagnostics"
   },
   "outputs": [],
   "source": [
    "az.plot_trace(trace, var_names=planet_vars + spot_vars);\n",
    "pg.plot();"
   ]
  },
  {
   "cell_type": "markdown",
   "metadata": {},
   "source": [
    "## 9. (Optional) Save outputs to Google Drive\n",
    "\n",
    "Mount Google Drive and store the posterior samples for future analysis."
   ]
  },
  {
   "cell_type": "code",
   "execution_count": null,
   "metadata": {
    "id": "save"
   },
   "outputs": [],
   "source": [
    "# from google.colab import drive\n",
    "# drive.mount('/content/drive')\n",
    "# az.to_netcdf(trace, '/content/drive/MyDrive/spotlightcurve/hatp36_sector49_trace.nc')"
   ]
  }
 ],
 "metadata": {
  "kernelspec": {
   "display_name": "Python 3",
   "language": "python",
   "name": "python3"
  },
  "language_info": {
   "codemirror_mode": {
    "name": "ipython",
    "version": 3
   },
   "file_extension": ".py",
   "mimetype": "text/x-python",
   "name": "python",
   "nbconvert_exporter": "python",
   "pygments_lexer": "ipython3",
   "version": "3.10"
  }
 },
 "nbformat": 4,
 "nbformat_minor": 5
}
